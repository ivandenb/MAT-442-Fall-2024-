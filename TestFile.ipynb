{
  "nbformat": 4,
  "nbformat_minor": 0,
  "metadata": {
    "colab": {
      "provenance": [],
      "authorship_tag": "ABX9TyNP1APeEZOmg9A+AUMygMtC",
      "include_colab_link": true
    },
    "kernelspec": {
      "name": "python3",
      "display_name": "Python 3"
    },
    "language_info": {
      "name": "python"
    }
  },
  "cells": [
    {
      "cell_type": "markdown",
      "metadata": {
        "id": "view-in-github",
        "colab_type": "text"
      },
      "source": [
        "<a href=\"https://colab.research.google.com/github/ivandenb/MAT-442-Fall-2024-/blob/main/TestFile.ipynb\" target=\"_parent\"><img src=\"https://colab.research.google.com/assets/colab-badge.svg\" alt=\"Open In Colab\"/></a>"
      ]
    },
    {
      "cell_type": "code",
      "execution_count": null,
      "metadata": {
        "colab": {
          "base_uri": "https://localhost:8080/"
        },
        "id": "end4k_nzk4xd",
        "outputId": "a3d98603-62a6-4aec-e2df-27e3eede11a0"
      },
      "outputs": [
        {
          "output_type": "execute_result",
          "data": {
            "text/plain": [
              "array([[8, 5, 3],\n",
              "       [1, 7, 1],\n",
              "       [0, 0, 8]])"
            ]
          },
          "metadata": {},
          "execution_count": 2
        }
      ],
      "source": [
        "# prompt: Print a random 3 by 3 matrix with whole numbers\n",
        "\n",
        "import numpy as np\n",
        "\n",
        "matrix = np.random.randint(0, 10, size=(3, 3))\n",
        "matrix"
      ]
    },
    {
      "cell_type": "code",
      "source": [
        "# prompt: Take the previous matrix and find the solution\n",
        "\n",
        "try:\n",
        "  solution = np.linalg.solve(matrix, np.ones(3))\n",
        "  print(solution)\n",
        "except np.linalg.LinAlgError:\n",
        "  print(\"The matrix is singular and cannot be solved.\")"
      ],
      "metadata": {
        "colab": {
          "base_uri": "https://localhost:8080/"
        },
        "id": "IgnvOY_-mGl0",
        "outputId": "93511536-621e-4b33-9bdc-61690c4e0b01"
      },
      "execution_count": null,
      "outputs": [
        {
          "output_type": "stream",
          "name": "stdout",
          "text": [
            "[0.    0.125 0.125]\n"
          ]
        }
      ]
    }
  ]
}