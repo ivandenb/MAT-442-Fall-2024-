{
  "nbformat": 4,
  "nbformat_minor": 0,
  "metadata": {
    "colab": {
      "provenance": [],
      "authorship_tag": "ABX9TyMwgeAIlFcV9avlq9hVNggg",
      "include_colab_link": true
    },
    "kernelspec": {
      "name": "python3",
      "display_name": "Python 3"
    },
    "language_info": {
      "name": "python"
    }
  },
  "cells": [
    {
      "cell_type": "markdown",
      "metadata": {
        "id": "view-in-github",
        "colab_type": "text"
      },
      "source": [
        "<a href=\"https://colab.research.google.com/github/ivandenb/MAT-442-Fall-2024-/blob/main/Hw1_4.ipynb\" target=\"_parent\"><img src=\"https://colab.research.google.com/assets/colab-badge.svg\" alt=\"Open In Colab\"/></a>"
      ]
    },
    {
      "cell_type": "markdown",
      "source": [
        "Principal Component **Analysis**"
      ],
      "metadata": {
        "id": "8P8Upi5qZKBS"
      }
    },
    {
      "cell_type": "markdown",
      "source": [
        "1.4.1 Singular Value Decompisition"
      ],
      "metadata": {
        "id": "_hDUeCyMZO40"
      }
    },
    {
      "cell_type": "markdown",
      "source": [
        "We will start by generating a 4 by 3 matrix to perform Single Value decomposition on."
      ],
      "metadata": {
        "id": "54H-sdvliqxo"
      }
    },
    {
      "cell_type": "code",
      "execution_count": 68,
      "metadata": {
        "colab": {
          "base_uri": "https://localhost:8080/"
        },
        "id": "KUD_QDzaZGwI",
        "outputId": "e3e8ace4-bc8e-4bf3-9739-6a8eb9e7154c"
      },
      "outputs": [
        {
          "output_type": "stream",
          "name": "stdout",
          "text": [
            "\n",
            " [[ 7  2  2]\n",
            " [-9  8 -8]\n",
            " [-9  6  6]]\n"
          ]
        }
      ],
      "source": [
        "# import\n",
        "\n",
        "import numpy as np\n",
        "\n",
        "# Generate a 4x3 matrix with random integers with values from -10 to 10\n",
        "matrix1 = np.random.randint(-10, 10, size=(3, 3))\n",
        "\n",
        "print(\"\\n\", matrix1)\n"
      ]
    },
    {
      "cell_type": "markdown",
      "source": [
        "Then to perform single value decomposition on the function"
      ],
      "metadata": {
        "id": "EbSS2cGGjE_F"
      }
    },
    {
      "cell_type": "code",
      "source": [
        "#Multiply the matrix by its own transpose\n",
        "\n",
        "A=np.dot(matrix1,matrix1.T)\n",
        "\n",
        "print(\"\\n\", A)"
      ],
      "metadata": {
        "colab": {
          "base_uri": "https://localhost:8080/"
        },
        "id": "M468l7jul9Gi",
        "outputId": "8872cb0d-4915-42c3-a411-8d6a94c1ff88"
      },
      "execution_count": 69,
      "outputs": [
        {
          "output_type": "stream",
          "name": "stdout",
          "text": [
            "\n",
            " [[ 57 -63 -39]\n",
            " [-63 209  81]\n",
            " [-39  81 153]]\n"
          ]
        }
      ]
    },
    {
      "cell_type": "code",
      "source": [
        "\n",
        "# Find the eigenvalues and eigenvectors of matrix A\n",
        "eigenvalues, eigenvectors = np.linalg.eig(A)\n",
        "\n",
        "print(\"\\nEigenvalues:\\n\", eigenvalues)\n",
        "print(\"\\nEigenvectors:\\n\", eigenvectors)"
      ],
      "metadata": {
        "colab": {
          "base_uri": "https://localhost:8080/"
        },
        "id": "30ZwIBl2mIrX",
        "outputId": "7cb2e53f-e2e5-4ce5-b19d-9f6deffbe92e"
      },
      "execution_count": 70,
      "outputs": [
        {
          "output_type": "stream",
          "name": "stdout",
          "text": [
            "\n",
            "Eigenvalues:\n",
            " [290.16228167  33.2157226   95.62199573]\n",
            "\n",
            "Eigenvectors:\n",
            " [[ 0.30241172 -0.95077219  0.06767128]\n",
            " [-0.78061928 -0.28778003 -0.55481185]\n",
            " [-0.54697412 -0.1149561   0.82921915]]\n"
          ]
        }
      ]
    },
    {
      "cell_type": "code",
      "source": [
        "#SOlve for u1,u2,u3 from the eigenvectors\n",
        "u1=np.dot(A,eigenvectors[:,0])/np.linalg.norm(np.dot(A,eigenvectors[:,0]))\n",
        "u2=np.dot(A,eigenvectors[:,1])/np.linalg.norm(np.dot(A,eigenvectors[:,1]))\n",
        "u3=np.dot(A,eigenvectors[:,2])/np.linalg.norm(np.dot(A,eigenvectors[:,2]))\n",
        "#u4=np.dot(A,eigenvectors[:,3])/np.linalg.norm(np.dot(A,eigenvectors[:,3]))\n",
        "\n",
        "#print the U vectors\n",
        "print(\"\\n\", u1)\n",
        "print(\"\\n\", u2)\n",
        "print(\"\\n\", u3)\n",
        "#print(\"\\n\", u4)\n"
      ],
      "metadata": {
        "colab": {
          "base_uri": "https://localhost:8080/"
        },
        "id": "AsL436i7mmnN",
        "outputId": "ccc6d6cc-4968-4fea-b22b-7cb704e21262"
      },
      "execution_count": 71,
      "outputs": [
        {
          "output_type": "stream",
          "name": "stdout",
          "text": [
            "\n",
            " [ 0.30241172 -0.78061928 -0.54697412]\n",
            "\n",
            " [-0.95077219 -0.28778003 -0.1149561 ]\n",
            "\n",
            " [ 0.06767128 -0.55481185  0.82921915]\n"
          ]
        }
      ]
    },
    {
      "cell_type": "code",
      "source": [
        "# Stack the U vectors\n",
        "U = np.column_stack((u1, u2, u3))\n",
        "print(\"\\nStacked U vectors:\\n\", U.T)"
      ],
      "metadata": {
        "colab": {
          "base_uri": "https://localhost:8080/"
        },
        "id": "8bot7hOlnrWV",
        "outputId": "252de803-7b8b-4888-ab28-f1464f08e7fa"
      },
      "execution_count": 72,
      "outputs": [
        {
          "output_type": "stream",
          "name": "stdout",
          "text": [
            "\n",
            "Stacked U vectors:\n",
            " [[ 0.30241172 -0.78061928 -0.54697412]\n",
            " [-0.95077219 -0.28778003 -0.1149561 ]\n",
            " [ 0.06767128 -0.55481185  0.82921915]]\n"
          ]
        }
      ]
    },
    {
      "cell_type": "code",
      "source": [
        "#Multiply U.T A and eigenvetors\n",
        "B=np.dot(U.T, A,)\n",
        "S=np.dot(B, eigenvectors)\n",
        "print(\"\\n\", B)"
      ],
      "metadata": {
        "colab": {
          "base_uri": "https://localhost:8080/"
        },
        "id": "EftLM_KjoWGM",
        "outputId": "12c368fc-7a00-4d7c-8301-16cb85df0fde"
      },
      "execution_count": 73,
      "outputs": [
        {
          "output_type": "stream",
          "name": "stdout",
          "text": [
            "\n",
            " [[  87.74847333 -226.50627193 -158.71125955]\n",
            " [ -31.58058523   -9.55882149   -3.8183499 ]\n",
            " [   6.47086278  -53.05221679   79.29159033]]\n"
          ]
        }
      ]
    },
    {
      "cell_type": "code",
      "source": [
        "#round the matrix to 3 decimals\n",
        "S=np.round(S, decimals=3)\n",
        "print(\"\\n\", S)"
      ],
      "metadata": {
        "colab": {
          "base_uri": "https://localhost:8080/"
        },
        "id": "B0q_qo-OqN1-",
        "outputId": "e3b4f564-df1a-4d33-f95f-97edfb5f5390"
      },
      "execution_count": 74,
      "outputs": [
        {
          "output_type": "stream",
          "name": "stdout",
          "text": [
            "\n",
            " [[290.162  -0.     -0.   ]\n",
            " [ -0.     33.216  -0.   ]\n",
            " [ -0.     -0.     95.622]]\n"
          ]
        }
      ]
    },
    {
      "cell_type": "code",
      "source": [
        "X=np.dot(U, S)\n",
        "print(\"\\n\", np.dot(X, eigenvectors.T))"
      ],
      "metadata": {
        "colab": {
          "base_uri": "https://localhost:8080/"
        },
        "id": "AZgd7Sy4r-fv",
        "outputId": "82ac63af-794a-4043-cf58-fd6a5cf2ff10"
      },
      "execution_count": 75,
      "outputs": [
        {
          "output_type": "stream",
          "name": "stdout",
          "text": [
            "\n",
            " [[ 57.00022502 -62.99985777 -38.99992285]\n",
            " [-62.99985777 208.99985265  80.99988695]\n",
            " [-38.99992285  80.99988695 152.99992233]]\n"
          ]
        }
      ]
    },
    {
      "cell_type": "code",
      "source": [
        "\n",
        "Soln=np.rint(np.dot(X, eigenvectors.T))\n",
        "print(\"\\n\", Soln)"
      ],
      "metadata": {
        "colab": {
          "base_uri": "https://localhost:8080/"
        },
        "id": "22tUwH7uvQ3V",
        "outputId": "cddcf339-89f3-4c02-9024-b2b31f6cbb22"
      },
      "execution_count": 83,
      "outputs": [
        {
          "output_type": "stream",
          "name": "stdout",
          "text": [
            "\n",
            " [[ 57. -63. -39.]\n",
            " [-63. 209.  81.]\n",
            " [-39.  81. 153.]]\n"
          ]
        }
      ]
    },
    {
      "cell_type": "markdown",
      "source": [
        "Thus we have returned our original matrix and performed single value decomposition on the matrix"
      ],
      "metadata": {
        "id": "eQDkqMJVvIVD"
      }
    },
    {
      "cell_type": "markdown",
      "source": [
        "1.4.2 Low rank matrix approximations"
      ],
      "metadata": {
        "id": "uqGd5dqHv_Sm"
      }
    },
    {
      "cell_type": "code",
      "source": [
        "# Example matrix (replace with your actual matrix)\n",
        "original_matrix = np.random.randint(-10, 10, size=(3, 3))\n",
        "\n",
        "#print matrix\n",
        "\n",
        "print(\"Original Matrix:\\n\", original_matrix)\n",
        "\n",
        "\n"
      ],
      "metadata": {
        "colab": {
          "base_uri": "https://localhost:8080/"
        },
        "id": "mBpTDqf4r9Fo",
        "outputId": "ab892fa4-214e-4109-9571-d5dbafd82f32"
      },
      "execution_count": 98,
      "outputs": [
        {
          "output_type": "stream",
          "name": "stdout",
          "text": [
            "Original Matrix:\n",
            " [[ -2   1   7]\n",
            " [  2   7  -7]\n",
            " [-10   9   7]]\n"
          ]
        }
      ]
    },
    {
      "cell_type": "markdown",
      "source": [
        "We will then choose a rank of 2 and do an example of a low rank approximation of the matrix given along with using single value decomposition.(this time I will use a simple python algorithm and not generate the svd from scratch as in 1.4.1)"
      ],
      "metadata": {
        "id": "7cb8dSQn6lhb"
      }
    },
    {
      "cell_type": "code",
      "source": [
        "# Perform SVD\n",
        "U, S, V = np.linalg.svd(original_matrix)\n",
        "\n",
        "# Create the low-rank approximation\n",
        "S_approximate = np.zeros((3, 3))\n",
        "S_approximate[:2, :2] = np.diag(S[:2])\n",
        "low_rank_approx = U @ S_approximate @ V\n",
        "\n",
        "print(\"\\nLow-Rank Approximation:\\n\".format(2), low_rank_approx)\n"
      ],
      "metadata": {
        "colab": {
          "base_uri": "https://localhost:8080/"
        },
        "id": "LplII70w65Nn",
        "outputId": "095af01a-b2be-4b96-a883-f708fda1c482"
      },
      "execution_count": 99,
      "outputs": [
        {
          "output_type": "stream",
          "name": "stdout",
          "text": [
            "\n",
            "Low-Rank Approximation:\n",
            " [[-3.72625018  0.09860197  5.93031676]\n",
            " [ 1.20465524  6.58469392 -7.49284105]\n",
            " [-9.41878673  9.3034928   7.36015295]]\n"
          ]
        }
      ]
    },
    {
      "cell_type": "markdown",
      "source": [
        "And there is an example of a low rank approximation."
      ],
      "metadata": {
        "id": "-HxM7Cngl7Ul"
      }
    },
    {
      "cell_type": "markdown",
      "source": [
        "1.4.3 Principal component analysis"
      ],
      "metadata": {
        "id": "0347_hw87Nhz"
      }
    },
    {
      "cell_type": "markdown",
      "source": [
        "First Some sample data will be generated"
      ],
      "metadata": {
        "id": "ufl7AsWe9lsM"
      }
    },
    {
      "cell_type": "code",
      "source": [
        "# Sample data\n",
        "data = np.random.randint(-10, 10, size=(3,3))\n",
        "\n",
        "print(\"sample data: \\n\", data)"
      ],
      "metadata": {
        "colab": {
          "base_uri": "https://localhost:8080/"
        },
        "id": "jr412LYo9rNB",
        "outputId": "1856a9ae-e3cf-45fd-9aa7-b26c04f014fa"
      },
      "execution_count": 106,
      "outputs": [
        {
          "output_type": "stream",
          "name": "stdout",
          "text": [
            "sample data: \n",
            " [[ 8  0  3]\n",
            " [-7  8  4]\n",
            " [ 3  0 -9]]\n"
          ]
        }
      ]
    },
    {
      "cell_type": "markdown",
      "source": [
        "The center the date using the mean"
      ],
      "metadata": {
        "id": "kNWBZeFX93Rm"
      }
    },
    {
      "cell_type": "code",
      "source": [
        "#Center the data\n",
        "mean = np.mean(data, axis=0)\n",
        "centered_data = data - mean\n",
        "\n",
        "print(\"centered data: \\n\", centered_data)"
      ],
      "metadata": {
        "colab": {
          "base_uri": "https://localhost:8080/"
        },
        "id": "6KEqckZu95ZD",
        "outputId": "04789ca4-d105-4654-c8b9-458b35a494d5"
      },
      "execution_count": 108,
      "outputs": [
        {
          "output_type": "stream",
          "name": "stdout",
          "text": [
            "centered data: \n",
            " [[ 6.66666667 -2.66666667  3.66666667]\n",
            " [-8.33333333  5.33333333  4.66666667]\n",
            " [ 1.66666667 -2.66666667 -8.33333333]]\n"
          ]
        }
      ]
    },
    {
      "cell_type": "markdown",
      "source": [
        "Then calculate the covariance matrix using np.cov as already coded in numpy"
      ],
      "metadata": {
        "id": "-cOOKAxD_RE7"
      }
    },
    {
      "cell_type": "code",
      "source": [
        "#Calculate the covariance matrix\n",
        "covariance_matrix = np.cov(centered_data, rowvar=False)\n",
        "\n",
        "print(\"\\ncovariance matrix:\\n\", covariance_matrix)"
      ],
      "metadata": {
        "colab": {
          "base_uri": "https://localhost:8080/"
        },
        "id": "MQUqg8MQ-3ga",
        "outputId": "4b4e7db8-187a-48c6-9068-d0f8d6a12781"
      },
      "execution_count": 110,
      "outputs": [
        {
          "output_type": "stream",
          "name": "stdout",
          "text": [
            "\n",
            "Covariance Matrix:\n",
            " [[ 58.33333333 -33.33333333 -14.16666667]\n",
            " [-33.33333333  21.33333333  18.66666667]\n",
            " [-14.16666667  18.66666667  52.33333333]]\n"
          ]
        }
      ]
    },
    {
      "cell_type": "markdown",
      "source": [
        "Find the eigenvalues and vectors"
      ],
      "metadata": {
        "id": "qDFD-W1m_hEs"
      }
    },
    {
      "cell_type": "code",
      "source": [
        "# Find the eigenvalues and eigenvectors\n",
        "eigenvalues1, eigenvectors1 = np.linalg.eig(covariance_matrix)\n",
        "\n",
        "print(\"\\nEigenvalues:\\n\", eigenvalues1)\n",
        "print(\"\\nEigenvectors:\\n\", eigenvectors1)"
      ],
      "metadata": {
        "colab": {
          "base_uri": "https://localhost:8080/"
        },
        "id": "dWqaXDSA_rC2",
        "outputId": "930437d7-d51b-4bdd-9cb8-a9611d60328c"
      },
      "execution_count": 112,
      "outputs": [
        {
          "output_type": "stream",
          "name": "stdout",
          "text": [
            "\n",
            "Eigenvalues:\n",
            " [9.05475729e+01 4.14524271e+01 4.91801235e-15]\n",
            "\n",
            "Eigenvectors:\n",
            " [[-0.71875009  0.52800069 -0.45234232]\n",
            " [ 0.48143131 -0.09143665 -0.87170135]\n",
            " [ 0.50161958  0.84430718  0.18847597]]\n"
          ]
        }
      ]
    },
    {
      "cell_type": "markdown",
      "source": [
        "Sort the eigenvalues and eigenvectors"
      ],
      "metadata": {
        "id": "077h-iKQ-pYw"
      }
    },
    {
      "cell_type": "code",
      "source": [
        "#sort the eigenvalues and eigenvectors to prepare for principal components\n",
        "\n",
        "sorted_indices = np.argsort(eigenvalues1)[::-1]\n",
        "eigenvalues2 = eigenvalues1[sorted_indices]\n",
        "eigenvectors2 = eigenvectors1[:, sorted_indices]\n",
        "\n",
        "print(\"\\nEigenvalues:\\n\", eigenvalues2)\n",
        "print(\"\\nEigenvectors:\\n\", eigenvectors2)"
      ],
      "metadata": {
        "colab": {
          "base_uri": "https://localhost:8080/"
        },
        "id": "wuhBXDSCAQZA",
        "outputId": "dda296ae-6277-473b-ee6e-d3ea8f3275e7"
      },
      "execution_count": 117,
      "outputs": [
        {
          "output_type": "stream",
          "name": "stdout",
          "text": [
            "\n",
            "Eigenvalues:\n",
            " [9.05475729e+01 4.14524271e+01 4.91801235e-15]\n",
            "\n",
            "Eigenvectors:\n",
            " [[-0.71875009  0.52800069 -0.45234232]\n",
            " [ 0.48143131 -0.09143665 -0.87170135]\n",
            " [ 0.50161958  0.84430718  0.18847597]]\n"
          ]
        }
      ]
    },
    {
      "cell_type": "markdown",
      "source": [
        "Find the 2 principal components"
      ],
      "metadata": {
        "id": "vXbjGnqY7Ryc"
      }
    },
    {
      "cell_type": "code",
      "source": [
        "#Find 2 principal components\n",
        "\n",
        "num_components = 2\n",
        "principal_components = eigenvectors[:, :num_components]\n",
        "\n",
        "print(\"\\nPrincipal Components:\\n\", principal_components)"
      ],
      "metadata": {
        "colab": {
          "base_uri": "https://localhost:8080/"
        },
        "id": "Pkjt-0aeA1kN",
        "outputId": "ad47a72b-9713-4d11-d132-a173d62c28b7"
      },
      "execution_count": 118,
      "outputs": [
        {
          "output_type": "stream",
          "name": "stdout",
          "text": [
            "\n",
            "Principal Components:\n",
            " [[ 0.39665213 -0.91758149]\n",
            " [-0.9152121  -0.39304395]\n",
            " [-0.07109076 -0.05967129]]\n"
          ]
        }
      ]
    },
    {
      "cell_type": "markdown",
      "source": [
        "Then using loadings show the projected data"
      ],
      "metadata": {
        "id": "Wf7CL3zVBDwI"
      }
    },
    {
      "cell_type": "code",
      "source": [
        "# Project the data onto the principal components\n",
        "projected_data = centered_data @ principal_components\n",
        "\n",
        "print(\"\\nProjected Data:\\n\", projected_data)"
      ],
      "metadata": {
        "colab": {
          "base_uri": "https://localhost:8080/"
        },
        "id": "QMWkaWlxBV-I",
        "outputId": "ad96d213-3dd9-4acd-bd4e-8252d1b5bd7d"
      },
      "execution_count": 119,
      "outputs": [
        {
          "output_type": "stream",
          "name": "stdout",
          "text": [
            "\n",
            "Projected Data:\n",
            " [[ 4.82424703 -5.28788747]\n",
            " [-8.51832248  5.27181206]\n",
            " [ 3.69407545  0.01607541]]\n"
          ]
        }
      ]
    },
    {
      "cell_type": "markdown",
      "source": [
        "And thus the principal component analysis has been completed on a random 3 by 3 matrix of data."
      ],
      "metadata": {
        "id": "a9wbONjkBf4M"
      }
    }
  ]
}