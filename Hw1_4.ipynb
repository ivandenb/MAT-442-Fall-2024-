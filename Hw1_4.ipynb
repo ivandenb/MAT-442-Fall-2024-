{
  "nbformat": 4,
  "nbformat_minor": 0,
  "metadata": {
    "colab": {
      "provenance": [],
      "authorship_tag": "ABX9TyPHMmCnRzch2Yu2QPtrrE/k",
      "include_colab_link": true
    },
    "kernelspec": {
      "name": "python3",
      "display_name": "Python 3"
    },
    "language_info": {
      "name": "python"
    }
  },
  "cells": [
    {
      "cell_type": "markdown",
      "metadata": {
        "id": "view-in-github",
        "colab_type": "text"
      },
      "source": [
        "<a href=\"https://colab.research.google.com/github/ivandenb/MAT-442-Fall-2024-/blob/main/Hw1_4.ipynb\" target=\"_parent\"><img src=\"https://colab.research.google.com/assets/colab-badge.svg\" alt=\"Open In Colab\"/></a>"
      ]
    },
    {
      "cell_type": "markdown",
      "source": [
        "Principal Component **Analysis**"
      ],
      "metadata": {
        "id": "8P8Upi5qZKBS"
      }
    },
    {
      "cell_type": "markdown",
      "source": [
        "1.4.1 Singular Value Decompisition"
      ],
      "metadata": {
        "id": "_hDUeCyMZO40"
      }
    },
    {
      "cell_type": "markdown",
      "source": [
        "We will start by generating a 4 by 3 matrix to perform Single Value decomposition on."
      ],
      "metadata": {
        "id": "54H-sdvliqxo"
      }
    },
    {
      "cell_type": "code",
      "execution_count": 68,
      "metadata": {
        "colab": {
          "base_uri": "https://localhost:8080/"
        },
        "id": "KUD_QDzaZGwI",
        "outputId": "e3e8ace4-bc8e-4bf3-9739-6a8eb9e7154c"
      },
      "outputs": [
        {
          "output_type": "stream",
          "name": "stdout",
          "text": [
            "\n",
            " [[ 7  2  2]\n",
            " [-9  8 -8]\n",
            " [-9  6  6]]\n"
          ]
        }
      ],
      "source": [
        "# import\n",
        "\n",
        "import numpy as np\n",
        "\n",
        "# Generate a 4x3 matrix with random integers with values from -10 to 10\n",
        "matrix1 = np.random.randint(-10, 10, size=(3, 3))\n",
        "\n",
        "print(\"\\n\", matrix1)\n"
      ]
    },
    {
      "cell_type": "markdown",
      "source": [
        "Then to perform single value decomposition on the function"
      ],
      "metadata": {
        "id": "EbSS2cGGjE_F"
      }
    },
    {
      "cell_type": "code",
      "source": [
        "#Multiply the matrix by its own transpose\n",
        "\n",
        "A=np.dot(matrix1,matrix1.T)\n",
        "\n",
        "print(\"\\n\", A)"
      ],
      "metadata": {
        "colab": {
          "base_uri": "https://localhost:8080/"
        },
        "id": "M468l7jul9Gi",
        "outputId": "8872cb0d-4915-42c3-a411-8d6a94c1ff88"
      },
      "execution_count": 69,
      "outputs": [
        {
          "output_type": "stream",
          "name": "stdout",
          "text": [
            "\n",
            " [[ 57 -63 -39]\n",
            " [-63 209  81]\n",
            " [-39  81 153]]\n"
          ]
        }
      ]
    },
    {
      "cell_type": "code",
      "source": [
        "\n",
        "# Find the eigenvalues and eigenvectors of matrix A\n",
        "eigenvalues, eigenvectors = np.linalg.eig(A)\n",
        "\n",
        "print(\"\\nEigenvalues:\\n\", eigenvalues)\n",
        "print(\"\\nEigenvectors:\\n\", eigenvectors)"
      ],
      "metadata": {
        "colab": {
          "base_uri": "https://localhost:8080/"
        },
        "id": "30ZwIBl2mIrX",
        "outputId": "7cb2e53f-e2e5-4ce5-b19d-9f6deffbe92e"
      },
      "execution_count": 70,
      "outputs": [
        {
          "output_type": "stream",
          "name": "stdout",
          "text": [
            "\n",
            "Eigenvalues:\n",
            " [290.16228167  33.2157226   95.62199573]\n",
            "\n",
            "Eigenvectors:\n",
            " [[ 0.30241172 -0.95077219  0.06767128]\n",
            " [-0.78061928 -0.28778003 -0.55481185]\n",
            " [-0.54697412 -0.1149561   0.82921915]]\n"
          ]
        }
      ]
    },
    {
      "cell_type": "code",
      "source": [
        "#SOlve for u1,u2,u3 from the eigenvectors\n",
        "u1=np.dot(A,eigenvectors[:,0])/np.linalg.norm(np.dot(A,eigenvectors[:,0]))\n",
        "u2=np.dot(A,eigenvectors[:,1])/np.linalg.norm(np.dot(A,eigenvectors[:,1]))\n",
        "u3=np.dot(A,eigenvectors[:,2])/np.linalg.norm(np.dot(A,eigenvectors[:,2]))\n",
        "#u4=np.dot(A,eigenvectors[:,3])/np.linalg.norm(np.dot(A,eigenvectors[:,3]))\n",
        "\n",
        "#print the U vectors\n",
        "print(\"\\n\", u1)\n",
        "print(\"\\n\", u2)\n",
        "print(\"\\n\", u3)\n",
        "#print(\"\\n\", u4)\n"
      ],
      "metadata": {
        "colab": {
          "base_uri": "https://localhost:8080/"
        },
        "id": "AsL436i7mmnN",
        "outputId": "ccc6d6cc-4968-4fea-b22b-7cb704e21262"
      },
      "execution_count": 71,
      "outputs": [
        {
          "output_type": "stream",
          "name": "stdout",
          "text": [
            "\n",
            " [ 0.30241172 -0.78061928 -0.54697412]\n",
            "\n",
            " [-0.95077219 -0.28778003 -0.1149561 ]\n",
            "\n",
            " [ 0.06767128 -0.55481185  0.82921915]\n"
          ]
        }
      ]
    },
    {
      "cell_type": "code",
      "source": [
        "# Stack the U vectors\n",
        "U = np.column_stack((u1, u2, u3))\n",
        "print(\"\\nStacked U vectors:\\n\", U.T)"
      ],
      "metadata": {
        "colab": {
          "base_uri": "https://localhost:8080/"
        },
        "id": "8bot7hOlnrWV",
        "outputId": "252de803-7b8b-4888-ab28-f1464f08e7fa"
      },
      "execution_count": 72,
      "outputs": [
        {
          "output_type": "stream",
          "name": "stdout",
          "text": [
            "\n",
            "Stacked U vectors:\n",
            " [[ 0.30241172 -0.78061928 -0.54697412]\n",
            " [-0.95077219 -0.28778003 -0.1149561 ]\n",
            " [ 0.06767128 -0.55481185  0.82921915]]\n"
          ]
        }
      ]
    },
    {
      "cell_type": "code",
      "source": [
        "#Multiply U.T A and eigenvetors\n",
        "B=np.dot(U.T, A,)\n",
        "S=np.dot(B, eigenvectors)\n",
        "print(\"\\n\", B)"
      ],
      "metadata": {
        "colab": {
          "base_uri": "https://localhost:8080/"
        },
        "id": "EftLM_KjoWGM",
        "outputId": "12c368fc-7a00-4d7c-8301-16cb85df0fde"
      },
      "execution_count": 73,
      "outputs": [
        {
          "output_type": "stream",
          "name": "stdout",
          "text": [
            "\n",
            " [[  87.74847333 -226.50627193 -158.71125955]\n",
            " [ -31.58058523   -9.55882149   -3.8183499 ]\n",
            " [   6.47086278  -53.05221679   79.29159033]]\n"
          ]
        }
      ]
    },
    {
      "cell_type": "code",
      "source": [
        "#round the matrix to 3 decimals\n",
        "S=np.round(S, decimals=3)\n",
        "print(\"\\n\", S)"
      ],
      "metadata": {
        "colab": {
          "base_uri": "https://localhost:8080/"
        },
        "id": "B0q_qo-OqN1-",
        "outputId": "e3b4f564-df1a-4d33-f95f-97edfb5f5390"
      },
      "execution_count": 74,
      "outputs": [
        {
          "output_type": "stream",
          "name": "stdout",
          "text": [
            "\n",
            " [[290.162  -0.     -0.   ]\n",
            " [ -0.     33.216  -0.   ]\n",
            " [ -0.     -0.     95.622]]\n"
          ]
        }
      ]
    },
    {
      "cell_type": "code",
      "source": [
        "X=np.dot(U, S)\n",
        "print(\"\\n\", np.dot(X, eigenvectors.T))"
      ],
      "metadata": {
        "colab": {
          "base_uri": "https://localhost:8080/"
        },
        "id": "AZgd7Sy4r-fv",
        "outputId": "82ac63af-794a-4043-cf58-fd6a5cf2ff10"
      },
      "execution_count": 75,
      "outputs": [
        {
          "output_type": "stream",
          "name": "stdout",
          "text": [
            "\n",
            " [[ 57.00022502 -62.99985777 -38.99992285]\n",
            " [-62.99985777 208.99985265  80.99988695]\n",
            " [-38.99992285  80.99988695 152.99992233]]\n"
          ]
        }
      ]
    },
    {
      "cell_type": "code",
      "source": [
        "\n",
        "Soln=np.rint(np.dot(X, eigenvectors.T))\n",
        "print(\"\\n\", Soln)"
      ],
      "metadata": {
        "colab": {
          "base_uri": "https://localhost:8080/"
        },
        "id": "22tUwH7uvQ3V",
        "outputId": "cddcf339-89f3-4c02-9024-b2b31f6cbb22"
      },
      "execution_count": 83,
      "outputs": [
        {
          "output_type": "stream",
          "name": "stdout",
          "text": [
            "\n",
            " [[ 57. -63. -39.]\n",
            " [-63. 209.  81.]\n",
            " [-39.  81. 153.]]\n"
          ]
        }
      ]
    },
    {
      "cell_type": "markdown",
      "source": [
        "Thus we have returned our original matrix and performed single value decomposition on the matrix"
      ],
      "metadata": {
        "id": "eQDkqMJVvIVD"
      }
    },
    {
      "cell_type": "markdown",
      "source": [
        "1.4.2 Low rank matrix approximations"
      ],
      "metadata": {
        "id": "uqGd5dqHv_Sm"
      }
    },
    {
      "cell_type": "code",
      "source": [],
      "metadata": {
        "id": "mBpTDqf4r9Fo"
      },
      "execution_count": null,
      "outputs": []
    },
    {
      "cell_type": "markdown",
      "source": [],
      "metadata": {
        "id": "-HxM7Cngl7Ul"
      }
    }
  ]
}