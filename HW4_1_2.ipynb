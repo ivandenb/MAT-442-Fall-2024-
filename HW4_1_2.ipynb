{
  "nbformat": 4,
  "nbformat_minor": 0,
  "metadata": {
    "colab": {
      "provenance": [],
      "authorship_tag": "ABX9TyMoB2ZQPsuSqD/laMkQJkB6",
      "include_colab_link": true
    },
    "kernelspec": {
      "name": "python3",
      "display_name": "Python 3"
    },
    "language_info": {
      "name": "python"
    }
  },
  "cells": [
    {
      "cell_type": "markdown",
      "metadata": {
        "id": "view-in-github",
        "colab_type": "text"
      },
      "source": [
        "<a href=\"https://colab.research.google.com/github/ivandenb/MAT-442-Fall-2024-/blob/main/HW4_1_2.ipynb\" target=\"_parent\"><img src=\"https://colab.research.google.com/assets/colab-badge.svg\" alt=\"Open In Colab\"/></a>"
      ]
    },
    {
      "cell_type": "markdown",
      "source": [
        "**4.1 and 4.2 Spectral Graph Bipartitioning**"
      ],
      "metadata": {
        "id": "2J2ODtWHHsOa"
      }
    },
    {
      "cell_type": "markdown",
      "source": [
        "4.2 Graph and Graph Modeling"
      ],
      "metadata": {
        "id": "7SOJbHbTH9Xu"
      }
    },
    {
      "cell_type": "code",
      "execution_count": null,
      "metadata": {
        "id": "vULOFC9yHnMl"
      },
      "outputs": [],
      "source": []
    }
  ]
}