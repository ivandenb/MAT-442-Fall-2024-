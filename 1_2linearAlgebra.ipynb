{
  "nbformat": 4,
  "nbformat_minor": 0,
  "metadata": {
    "colab": {
      "provenance": [],
      "authorship_tag": "ABX9TyMNIh77OYZV5P0xCbrjR82E",
      "include_colab_link": true
    },
    "kernelspec": {
      "name": "python3",
      "display_name": "Python 3"
    },
    "language_info": {
      "name": "python"
    }
  },
  "cells": [
    {
      "cell_type": "markdown",
      "metadata": {
        "id": "view-in-github",
        "colab_type": "text"
      },
      "source": [
        "<a href=\"https://colab.research.google.com/github/ivandenb/MAT-442-Fall-2024-/blob/main/1_2linearAlgebra.ipynb\" target=\"_parent\"><img src=\"https://colab.research.google.com/assets/colab-badge.svg\" alt=\"Open In Colab\"/></a>"
      ]
    },
    {
      "cell_type": "markdown",
      "source": [
        "1.2 Linear Spaces\n"
      ],
      "metadata": {
        "id": "uycpfWpu77JU"
      }
    },
    {
      "cell_type": "markdown",
      "source": [
        "**1.2.1 Linear Combinations**\n",
        "When vectors are multiplied by scalars and added together they are still within the same subspace"
      ],
      "metadata": {
        "id": "C5bQFy2K_s8y"
      }
    },
    {
      "cell_type": "code",
      "source": [
        "import numpy as np\n",
        "\n",
        "# Create three vectors of dimension three with random integers\n",
        "vector1 = np.random.randint(0, 10, size=3)\n",
        "vector2 = np.random.randint(0, 10, size=3)\n",
        "vector3 = np.random.randint(0, 10, size=3)\n",
        "\n",
        "print(\"Vector 1:\", vector1)\n",
        "print(\"Vector 2:\", vector2)\n",
        "print(\"Vector 3:\", vector3)\n"
      ],
      "metadata": {
        "colab": {
          "base_uri": "https://localhost:8080/"
        },
        "id": "nRaBm_z9CyiN",
        "outputId": "788035c5-5812-46d1-d552-64d47f293f96"
      },
      "execution_count": 7,
      "outputs": [
        {
          "output_type": "stream",
          "name": "stdout",
          "text": [
            "Vector 1: [7 2 6]\n",
            "Vector 2: [4 7 0]\n",
            "Vector 3: [1 8 6]\n"
          ]
        }
      ]
    },
    {
      "cell_type": "code",
      "source": [
        "# Create scalars\n",
        "scalar1 = 2\n",
        "scalar2 = -1\n",
        "scalar3 = 0.5\n",
        "\n",
        "# Calculate the linear combination\n",
        "linear_combination = scalar1 * vector1 + scalar2 * vector2 + scalar3 * vector3\n",
        "\n",
        "print(\"Linear Combination:\", linear_combination)"
      ],
      "metadata": {
        "colab": {
          "base_uri": "https://localhost:8080/"
        },
        "id": "Nzup4C1TC9-Y",
        "outputId": "3dcb8610-b0f1-4313-ca86-d1a90a84cce2"
      },
      "execution_count": 8,
      "outputs": [
        {
          "output_type": "stream",
          "name": "stdout",
          "text": [
            "Linear Combination: [10.5  1.  15. ]\n"
          ]
        }
      ]
    },
    {
      "cell_type": "markdown",
      "source": [
        "Checking to see if the vectors are linearly independent"
      ],
      "metadata": {
        "id": "PM5QUB-CDjhC"
      }
    },
    {
      "cell_type": "code",
      "source": [
        "#Function for checking dependence of three vectors based on determinant\n",
        "\n",
        "def dependence_check(v1, v2, v3):\n",
        "  matrix = np.stack((v1, v2, v3), axis = -1)\n",
        "  det = np.linalg.det(matrix)\n",
        "  if det == 0:\n",
        "    print(\"the vectors are linearly dependent\")\n",
        "  else:\n",
        "    print(\"the vectors are linearly independent\")"
      ],
      "metadata": {
        "id": "cuLquR-_Dnaw"
      },
      "execution_count": 17,
      "outputs": []
    },
    {
      "cell_type": "code",
      "source": [
        "#Using code to check the dependence of the vectors\n",
        "\n",
        "dependence_check(vector1, vector2, vector3)\n"
      ],
      "metadata": {
        "colab": {
          "base_uri": "https://localhost:8080/"
        },
        "id": "ejoR3BcAEG52",
        "outputId": "91783a2a-7070-41fa-edf0-814647dccc7d"
      },
      "execution_count": 18,
      "outputs": [
        {
          "output_type": "stream",
          "name": "stdout",
          "text": [
            "the vectors are linearly independent\n"
          ]
        }
      ]
    },
    {
      "cell_type": "markdown",
      "source": [
        "Calulating the dimension of the previous matrix formed from the three vectors"
      ],
      "metadata": {
        "id": "-7MzZR7uFbI8"
      }
    },
    {
      "cell_type": "code",
      "source": [
        "# Create the 3x3 matrix from the three vectors\n",
        "matrix = np.stack((vector1, vector2, vector3))\n",
        "\n",
        "matrix"
      ],
      "metadata": {
        "colab": {
          "base_uri": "https://localhost:8080/"
        },
        "id": "sLF8ZlAiF1Fz",
        "outputId": "c3c37598-d14b-41de-88b7-5b386f4ca8bd"
      },
      "execution_count": 22,
      "outputs": [
        {
          "output_type": "execute_result",
          "data": {
            "text/plain": [
              "array([[7, 2, 6],\n",
              "       [4, 7, 0],\n",
              "       [1, 8, 6]])"
            ]
          },
          "metadata": {},
          "execution_count": 22
        }
      ]
    },
    {
      "cell_type": "code",
      "source": [
        "import sympy as sp\n",
        "\n",
        "matrix_rank = sp.Matrix(matrix).rank()\n",
        "print(\"matrix rank:\" , matrix_rank)\n"
      ],
      "metadata": {
        "colab": {
          "base_uri": "https://localhost:8080/"
        },
        "id": "swldM_taIm1h",
        "outputId": "c079ca4c-b636-439a-d6ac-387a2d02af6b"
      },
      "execution_count": 31,
      "outputs": [
        {
          "output_type": "stream",
          "name": "stdout",
          "text": [
            "matrix rank: 3\n"
          ]
        }
      ]
    },
    {
      "cell_type": "markdown",
      "source": [
        "Finding the column space of the matrix"
      ],
      "metadata": {
        "id": "Ye4leXCFI3Dq"
      }
    },
    {
      "cell_type": "code",
      "source": [
        "matrix_column_space = sp.Matrix(matrix).columnspace()\n",
        "print(\"matrix column space:\")\n",
        "matrix_column_space\n",
        "\n"
      ],
      "metadata": {
        "colab": {
          "base_uri": "https://localhost:8080/"
        },
        "id": "OVaFCflII5_H",
        "outputId": "0a15b987-f250-4e36-bfc2-d6edb6eb9f6f"
      },
      "execution_count": 38,
      "outputs": [
        {
          "output_type": "stream",
          "name": "stdout",
          "text": [
            "matrix column space:\n"
          ]
        },
        {
          "output_type": "execute_result",
          "data": {
            "text/plain": [
              "[Matrix([\n",
              " [7],\n",
              " [4],\n",
              " [1]]),\n",
              " Matrix([\n",
              " [2],\n",
              " [7],\n",
              " [8]]),\n",
              " Matrix([\n",
              " [6],\n",
              " [0],\n",
              " [6]])]"
            ]
          },
          "metadata": {},
          "execution_count": 38
        }
      ]
    },
    {
      "cell_type": "code",
      "source": [
        "#make it look neater\n",
        "a=[7,4,1]\n",
        "b=[2,7,8]\n",
        "c=[6,0,6]\n",
        "print(\"The column space is:\", a, b, c,)\n"
      ],
      "metadata": {
        "colab": {
          "base_uri": "https://localhost:8080/"
        },
        "id": "6lDLBO2uKo0A",
        "outputId": "5923fa66-41ad-4730-f794-661fad8a308f"
      },
      "execution_count": 39,
      "outputs": [
        {
          "output_type": "stream",
          "name": "stdout",
          "text": [
            "The column space is: [7, 4, 1] [2, 7, 8] [6, 0, 6]\n"
          ]
        }
      ]
    },
    {
      "cell_type": "markdown",
      "source": [
        "1.2.2 Orthogonality"
      ],
      "metadata": {
        "id": "fW-W7fOnLffl"
      }
    },
    {
      "cell_type": "code",
      "source": [],
      "metadata": {
        "id": "9Smb91udLkD1"
      },
      "execution_count": null,
      "outputs": []
    }
  ]
}