{
  "nbformat": 4,
  "nbformat_minor": 0,
  "metadata": {
    "colab": {
      "provenance": [],
      "authorship_tag": "ABX9TyMS925WDWDkhsS9ulymO4RV",
      "include_colab_link": true
    },
    "kernelspec": {
      "name": "python3",
      "display_name": "Python 3"
    },
    "language_info": {
      "name": "python"
    }
  },
  "cells": [
    {
      "cell_type": "markdown",
      "metadata": {
        "id": "view-in-github",
        "colab_type": "text"
      },
      "source": [
        "<a href=\"https://colab.research.google.com/github/ivandenb/MAT-442-Fall-2024-/blob/main/1_2linearAlgebra.ipynb\" target=\"_parent\"><img src=\"https://colab.research.google.com/assets/colab-badge.svg\" alt=\"Open In Colab\"/></a>"
      ]
    },
    {
      "cell_type": "markdown",
      "source": [
        "1.2 Linear Spaces\n"
      ],
      "metadata": {
        "id": "uycpfWpu77JU"
      }
    },
    {
      "cell_type": "markdown",
      "source": [
        "**1.2.1 Linear Combinations**\n",
        "When vectors are multiplied by scalars and added together they are still within the same subspace"
      ],
      "metadata": {
        "id": "C5bQFy2K_s8y"
      }
    },
    {
      "cell_type": "code",
      "source": [
        "import numpy as np\n",
        "\n",
        "# Create three vectors of dimension three with random integers\n",
        "vector1 = np.random.randint(0, 10, size=3)\n",
        "vector2 = np.random.randint(0, 10, size=3)\n",
        "vector3 = np.random.randint(0, 10, size=3)\n",
        "\n",
        "print(\"Vector 1:\", vector1)\n",
        "print(\"Vector 2:\", vector2)\n",
        "print(\"Vector 3:\", vector3)\n"
      ],
      "metadata": {
        "colab": {
          "base_uri": "https://localhost:8080/"
        },
        "id": "nRaBm_z9CyiN",
        "outputId": "788035c5-5812-46d1-d552-64d47f293f96"
      },
      "execution_count": 7,
      "outputs": [
        {
          "output_type": "stream",
          "name": "stdout",
          "text": [
            "Vector 1: [7 2 6]\n",
            "Vector 2: [4 7 0]\n",
            "Vector 3: [1 8 6]\n"
          ]
        }
      ]
    },
    {
      "cell_type": "code",
      "source": [
        "# Create scalars\n",
        "scalar1 = 2\n",
        "scalar2 = -1\n",
        "scalar3 = 0.5\n",
        "\n",
        "# Calculate the linear combination\n",
        "linear_combination = scalar1 * vector1 + scalar2 * vector2 + scalar3 * vector3\n",
        "\n",
        "print(\"Linear Combination:\", linear_combination)"
      ],
      "metadata": {
        "colab": {
          "base_uri": "https://localhost:8080/"
        },
        "id": "Nzup4C1TC9-Y",
        "outputId": "3dcb8610-b0f1-4313-ca86-d1a90a84cce2"
      },
      "execution_count": 8,
      "outputs": [
        {
          "output_type": "stream",
          "name": "stdout",
          "text": [
            "Linear Combination: [10.5  1.  15. ]\n"
          ]
        }
      ]
    },
    {
      "cell_type": "markdown",
      "source": [
        "Checking to see if the vectors are linearly independent"
      ],
      "metadata": {
        "id": "PM5QUB-CDjhC"
      }
    },
    {
      "cell_type": "code",
      "source": [
        "#Function for checking dependence of three vectors based on determinant\n",
        "\n",
        "def dependence_check(v1, v2, v3):\n",
        "  matrix = np.stack((v1, v2, v3), axis = -1)\n",
        "  det = np.linalg.det(matrix)\n",
        "  if det == 0:\n",
        "    print(\"the vectors are linearly dependent\")\n",
        "  else:\n",
        "    print(\"the vectors are linearly independent\")"
      ],
      "metadata": {
        "id": "cuLquR-_Dnaw"
      },
      "execution_count": 17,
      "outputs": []
    },
    {
      "cell_type": "code",
      "source": [
        "#Using code to check the dependence of the vectors\n",
        "\n",
        "dependence_check(vector1, vector2, vector3)\n"
      ],
      "metadata": {
        "colab": {
          "base_uri": "https://localhost:8080/"
        },
        "id": "ejoR3BcAEG52",
        "outputId": "91783a2a-7070-41fa-edf0-814647dccc7d"
      },
      "execution_count": 18,
      "outputs": [
        {
          "output_type": "stream",
          "name": "stdout",
          "text": [
            "the vectors are linearly independent\n"
          ]
        }
      ]
    },
    {
      "cell_type": "markdown",
      "source": [
        "Calulating the dimension of the previous matrix formed from the three vectors"
      ],
      "metadata": {
        "id": "-7MzZR7uFbI8"
      }
    },
    {
      "cell_type": "code",
      "source": [
        "# Create the 3x3 matrix from the three vectors\n",
        "matrix = np.stack((vector1, vector2, vector3))\n",
        "\n",
        "matrix"
      ],
      "metadata": {
        "colab": {
          "base_uri": "https://localhost:8080/"
        },
        "id": "sLF8ZlAiF1Fz",
        "outputId": "c3c37598-d14b-41de-88b7-5b386f4ca8bd"
      },
      "execution_count": 22,
      "outputs": [
        {
          "output_type": "execute_result",
          "data": {
            "text/plain": [
              "array([[7, 2, 6],\n",
              "       [4, 7, 0],\n",
              "       [1, 8, 6]])"
            ]
          },
          "metadata": {},
          "execution_count": 22
        }
      ]
    },
    {
      "cell_type": "code",
      "source": [
        "import sympy as sp\n",
        "\n",
        "matrix_rank = sp.Matrix(matrix).rank()\n",
        "print(\"matrix rank:\" , matrix_rank)\n"
      ],
      "metadata": {
        "colab": {
          "base_uri": "https://localhost:8080/"
        },
        "id": "swldM_taIm1h",
        "outputId": "c079ca4c-b636-439a-d6ac-387a2d02af6b"
      },
      "execution_count": 31,
      "outputs": [
        {
          "output_type": "stream",
          "name": "stdout",
          "text": [
            "matrix rank: 3\n"
          ]
        }
      ]
    },
    {
      "cell_type": "markdown",
      "source": [
        "Finding the column space of the matrix"
      ],
      "metadata": {
        "id": "Ye4leXCFI3Dq"
      }
    },
    {
      "cell_type": "code",
      "source": [
        "matrix_column_space = sp.Matrix(matrix).columnspace()\n",
        "print(\"matrix column space:\")\n",
        "matrix_column_space\n",
        "\n"
      ],
      "metadata": {
        "colab": {
          "base_uri": "https://localhost:8080/"
        },
        "id": "OVaFCflII5_H",
        "outputId": "0a15b987-f250-4e36-bfc2-d6edb6eb9f6f"
      },
      "execution_count": 38,
      "outputs": [
        {
          "output_type": "stream",
          "name": "stdout",
          "text": [
            "matrix column space:\n"
          ]
        },
        {
          "output_type": "execute_result",
          "data": {
            "text/plain": [
              "[Matrix([\n",
              " [7],\n",
              " [4],\n",
              " [1]]),\n",
              " Matrix([\n",
              " [2],\n",
              " [7],\n",
              " [8]]),\n",
              " Matrix([\n",
              " [6],\n",
              " [0],\n",
              " [6]])]"
            ]
          },
          "metadata": {},
          "execution_count": 38
        }
      ]
    },
    {
      "cell_type": "code",
      "source": [
        "#make it look neater\n",
        "a=[7,4,1]\n",
        "b=[2,7,8]\n",
        "c=[6,0,6]\n",
        "print(\"The column space is:\", a, b, c,)\n"
      ],
      "metadata": {
        "colab": {
          "base_uri": "https://localhost:8080/"
        },
        "id": "6lDLBO2uKo0A",
        "outputId": "5923fa66-41ad-4730-f794-661fad8a308f"
      },
      "execution_count": 39,
      "outputs": [
        {
          "output_type": "stream",
          "name": "stdout",
          "text": [
            "The column space is: [7, 4, 1] [2, 7, 8] [6, 0, 6]\n"
          ]
        }
      ]
    },
    {
      "cell_type": "markdown",
      "source": [
        "1.2.2 Orthogonality"
      ],
      "metadata": {
        "id": "fW-W7fOnLffl"
      }
    },
    {
      "cell_type": "markdown",
      "source": [
        "Firstly an example of an orthonormal basis"
      ],
      "metadata": {
        "id": "nHBPZKc8aV36"
      }
    },
    {
      "cell_type": "code",
      "source": [
        "print(\"3 by 3 Orthonormal basis:\\n\", np.identity(3, dtype = int))\n"
      ],
      "metadata": {
        "colab": {
          "base_uri": "https://localhost:8080/"
        },
        "id": "NM0iulwCavq3",
        "outputId": "86226fde-de8c-45da-93c4-765f27656d43"
      },
      "execution_count": 8,
      "outputs": [
        {
          "output_type": "stream",
          "name": "stdout",
          "text": [
            "3 by 3 Orthonormal basis:\n",
            " [[1 0 0]\n",
            " [0 1 0]\n",
            " [0 0 1]]\n"
          ]
        }
      ]
    },
    {
      "cell_type": "markdown",
      "source": [
        "Now there will be an example of Cauchy-Schwarz"
      ],
      "metadata": {
        "id": "akRvD6iMbr6z"
      }
    },
    {
      "cell_type": "markdown",
      "source": [
        "Cauchy-Schwarz: |⟨u, v⟩| ≤ ∥u∥∥v∥"
      ],
      "metadata": {
        "id": "VafQFf7ZdwN1"
      }
    },
    {
      "cell_type": "code",
      "source": [
        "# Generate two random vectors of size 3\n",
        "vector4 = np.random.randint(-10,10,size=3)\n",
        "vector5 = np.random.randint(-10,10,size=3)\n",
        "\n",
        "print(\"Vector 1:\", vector4)\n",
        "print(\"Vector 2:\", vector5)"
      ],
      "metadata": {
        "colab": {
          "base_uri": "https://localhost:8080/"
        },
        "id": "e-oKegvLdugA",
        "outputId": "47cab495-daab-437d-d0b7-30ed574422c8"
      },
      "execution_count": 13,
      "outputs": [
        {
          "output_type": "stream",
          "name": "stdout",
          "text": [
            "Vector 1: [-5 -7  7]\n",
            "Vector 2: [-2  5  8]\n"
          ]
        }
      ]
    },
    {
      "cell_type": "code",
      "source": [
        "# Solving for the inner product\n",
        "inner_product = np.dot(vector4, vector5)\n",
        "print(\"Inner product:\", inner_product)"
      ],
      "metadata": {
        "colab": {
          "base_uri": "https://localhost:8080/"
        },
        "id": "leH2XRWqe09p",
        "outputId": "34c5bfd9-94c3-48f3-a321-db1e624d8768"
      },
      "execution_count": 14,
      "outputs": [
        {
          "output_type": "stream",
          "name": "stdout",
          "text": [
            "Inner product: 31\n"
          ]
        }
      ]
    },
    {
      "cell_type": "code",
      "source": [
        "# Calculate the norms of vector4 and vector5\n",
        "norm_vector4 = np.linalg.norm(vector4)\n",
        "norm_vector5 = np.linalg.norm(vector5)\n",
        "\n",
        "print(\"Norm of Vector 1:\", norm_vector4)\n",
        "print(\"Norm of Vector 2:\", norm_vector5)"
      ],
      "metadata": {
        "colab": {
          "base_uri": "https://localhost:8080/"
        },
        "id": "bgSBhVoqfaHT",
        "outputId": "acadbbee-9965-408d-8fdf-bec434a4cb58"
      },
      "execution_count": 16,
      "outputs": [
        {
          "output_type": "stream",
          "name": "stdout",
          "text": [
            "Norm of Vector 1: 11.090536506409418\n",
            "Norm of Vector 2: 9.643650760992955\n"
          ]
        }
      ]
    },
    {
      "cell_type": "code",
      "source": [
        "#Compare the two values to prove true\n",
        "\n",
        "if norm_vector4*norm_vector5 > inner_product:\n",
        "  print(\"|⟨u, v⟩| ≤ ∥u∥∥v∥ is true\")\n",
        "else: print(\"Cauchy-Schwarz is not true\")"
      ],
      "metadata": {
        "colab": {
          "base_uri": "https://localhost:8080/"
        },
        "id": "6NvIorl9frwt",
        "outputId": "12f1ff4c-7ae2-4153-d2e4-1fa65fe0fb81"
      },
      "execution_count": 26,
      "outputs": [
        {
          "output_type": "stream",
          "name": "stdout",
          "text": [
            "|⟨u, v⟩| ≤ ∥u∥∥v∥ is true\n"
          ]
        }
      ]
    },
    {
      "cell_type": "markdown",
      "source": [
        "Thus our example of Cauchy Schwarz rings true."
      ],
      "metadata": {
        "id": "wQARwYDqg_n_"
      }
    },
    {
      "cell_type": "markdown",
      "source": [
        "1.2.3 Gram Schmidt Process"
      ],
      "metadata": {
        "id": "8UbwlAZdhMzV"
      }
    },
    {
      "cell_type": "markdown",
      "source": [
        "First generating 3 random linearly independent vectors"
      ],
      "metadata": {
        "id": "3WRuAfLcimIP"
      }
    },
    {
      "cell_type": "code",
      "source": [
        "# Create three vectors of dimension three with random integers\n",
        "vector6 = np.random.randint(0, 10, size=3)\n",
        "vector7 = np.random.randint(0, 10, size=3)\n",
        "vector8 = np.random.randint(0, 10, size=3)\n",
        "\n",
        "\n",
        "def dependence_check(v1, v2, v3):\n",
        "  matrix = np.stack((v1, v2, v3), axis = -1)\n",
        "  det = np.linalg.det(matrix)\n",
        "  if det == 0:\n",
        "    print(\"the vectors are linearly dependent\")\n",
        "  else:\n",
        "    print(\"the vectors are linearly independent\")\n",
        "\n",
        "print(\"\\n\", vector6, \"\\n\", vector7, \"\\n\", vector8)\n",
        "\n",
        "dependence_check(vector6, vector7, vector8)"
      ],
      "metadata": {
        "colab": {
          "base_uri": "https://localhost:8080/"
        },
        "id": "ISSMjAcOilIr",
        "outputId": "e831b9b7-2170-4ecc-f44e-6e769ffd3577"
      },
      "execution_count": 68,
      "outputs": [
        {
          "output_type": "stream",
          "name": "stdout",
          "text": [
            "\n",
            " [6 2 4] \n",
            " [4 7 6] \n",
            " [7 7 6]\n",
            "the vectors are linearly independent\n"
          ]
        }
      ]
    },
    {
      "cell_type": "markdown",
      "source": [
        "Then performing Gram-Schmidt"
      ],
      "metadata": {
        "id": "UmCACb2ulWtH"
      }
    },
    {
      "cell_type": "code",
      "source": [
        "#Solve Gram Schmidt\n",
        "\n",
        "#Let u1=v1\n",
        "u1=vector6\n",
        "\n",
        "#Let u2=v2-(<u1,v1>/<u1,u1>)u1\n",
        "\n",
        "u2=vector7-(np.dot(u1,vector7)/np.dot(u1,u1))*u1\n",
        "\n",
        "#solve u3\n",
        "\n",
        "u3=vector8-(np.dot(u1,vector8)/np.dot(u1,u1))*u1-(np.dot(u2,vector8)/np.dot(u2,u2))*u2\n",
        "\n",
        "#Now normalize the vectors\n",
        "\n",
        "e1=u1/np.linalg.norm(u1)\n",
        "e2=u2/np.linalg.norm(u2)\n",
        "e3=u3/np.linalg.norm(u3)\n",
        "\n",
        "#print the vectors\n",
        "print(\"\\n\", e1, \"\\n\", e2, \"\\n\", e3)"
      ],
      "metadata": {
        "colab": {
          "base_uri": "https://localhost:8080/"
        },
        "id": "8zIJYPvMk4sF",
        "outputId": "896f0681-e1e8-44c8-8b89-4c0b6314ae93"
      },
      "execution_count": 72,
      "outputs": [
        {
          "output_type": "stream",
          "name": "stdout",
          "text": [
            "\n",
            " [0.80178373 0.26726124 0.53452248] \n",
            " [-0.46461006  0.84132091  0.27625463] \n",
            " [ 0.37587279  0.46984099 -0.79872968]\n"
          ]
        }
      ]
    },
    {
      "cell_type": "markdown",
      "source": [
        "Thus the Gram-Schmidt process is complete"
      ],
      "metadata": {
        "id": "uMNyaovVsURc"
      }
    },
    {
      "cell_type": "markdown",
      "source": [
        "1.2.4 Eigen Vectors"
      ],
      "metadata": {
        "id": "1pmuDHvDsXih"
      }
    },
    {
      "cell_type": "markdown",
      "source": [
        "Solving an Eigen vector example given a random matrix of 3 by 3"
      ],
      "metadata": {
        "id": "v-IhphqBsaQd"
      }
    },
    {
      "cell_type": "code",
      "source": [
        "# Generate a 3x3 matrix of random integers\n",
        "matrix1 = np.random.randint(0, 10, size=(3, 3))\n",
        "\n",
        "print(matrix1)"
      ],
      "metadata": {
        "colab": {
          "base_uri": "https://localhost:8080/"
        },
        "id": "sMAD2FaNsgpC",
        "outputId": "6579ef9c-30d2-4e52-9237-28e18065a7c7"
      },
      "execution_count": 80,
      "outputs": [
        {
          "output_type": "stream",
          "name": "stdout",
          "text": [
            "[[9 3 6]\n",
            " [6 8 8]\n",
            " [2 9 9]]\n"
          ]
        }
      ]
    },
    {
      "cell_type": "code",
      "source": [
        "# Calculate eigenvalues and eigenvectors of matrix1\n",
        "\n",
        "eigenvalues, eigenvectors = np.linalg.eig(matrix1)\n",
        "\n",
        "print(\"Eigenvalues:\", eigenvalues)\n",
        "print(\"Eigenvectors:\\n\", eigenvectors)"
      ],
      "metadata": {
        "colab": {
          "base_uri": "https://localhost:8080/"
        },
        "id": "0aavO9XItRTm",
        "outputId": "53a421d2-d3e0-4c42-b6da-a214aa11c9d1"
      },
      "execution_count": 81,
      "outputs": [
        {
          "output_type": "stream",
          "name": "stdout",
          "text": [
            "Eigenvalues: [20.18660621  4.58048839  1.2329054 ]\n",
            "Eigenvectors:\n",
            " [[-0.49064151 -0.76216996 -0.35779279]\n",
            " [-0.63398097 -0.14090626 -0.56325884]\n",
            " [-0.59777842  0.63185629  0.74479782]]\n"
          ]
        }
      ]
    }
  ]
}