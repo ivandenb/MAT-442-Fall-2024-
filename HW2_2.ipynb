{
  "nbformat": 4,
  "nbformat_minor": 0,
  "metadata": {
    "colab": {
      "provenance": [],
      "authorship_tag": "ABX9TyNygbyD+aAABzmmVrbdtmLd",
      "include_colab_link": true
    },
    "kernelspec": {
      "name": "python3",
      "display_name": "Python 3"
    },
    "language_info": {
      "name": "python"
    }
  },
  "cells": [
    {
      "cell_type": "markdown",
      "metadata": {
        "id": "view-in-github",
        "colab_type": "text"
      },
      "source": [
        "<a href=\"https://colab.research.google.com/github/ivandenb/MAT-442-Fall-2024-/blob/main/HW2_2.ipynb\" target=\"_parent\"><img src=\"https://colab.research.google.com/assets/colab-badge.svg\" alt=\"Open In Colab\"/></a>"
      ]
    },
    {
      "cell_type": "markdown",
      "source": [
        "**2.2 Probability Distribution**"
      ],
      "metadata": {
        "id": "-fdTtQboCD2n"
      }
    },
    {
      "cell_type": "markdown",
      "source": [
        "2.2.1 Probaility axioms"
      ],
      "metadata": {
        "id": "y68wUI39H4u5"
      }
    },
    {
      "cell_type": "markdown",
      "source": [
        "First we will create a sample space for an event"
      ],
      "metadata": {
        "id": "qAkiZoGgH-bY"
      }
    },
    {
      "cell_type": "code",
      "execution_count": 4,
      "metadata": {
        "id": "0Fp-e7XuCAyG",
        "colab": {
          "base_uri": "https://localhost:8080/"
        },
        "outputId": "1974735d-5ef8-450c-db99-4a12c42faf4d"
      },
      "outputs": [
        {
          "output_type": "stream",
          "name": "stdout",
          "text": [
            "\n",
            " Sample Space: [1 2 3 4 5 6]\n"
          ]
        }
      ],
      "source": [
        "# import\n",
        "\n",
        "import numpy as np\n",
        "\n",
        "#Create Sample space\n",
        "sample_space = np.arange(1,7)\n",
        "\n",
        "print(\"\\n Sample Space:\", sample_space)"
      ]
    },
    {
      "cell_type": "markdown",
      "source": [
        "Then we will create two events in which we will manually determine the Events"
      ],
      "metadata": {
        "id": "_4jqJJ20I7ry"
      }
    },
    {
      "cell_type": "code",
      "source": [
        "#Create two event Scenarios\n",
        "\n",
        "A= np.array([1,2,3])\n",
        "B= np.array([5])\n",
        "\n",
        "print(\"\\n Event A:\", A)\n",
        "print(\"\\n Event B:\", B)"
      ],
      "metadata": {
        "colab": {
          "base_uri": "https://localhost:8080/"
        },
        "id": "iYadvQP0JExG",
        "outputId": "1b5833bd-ec64-4fed-f57c-1ea0fe987af7"
      },
      "execution_count": 3,
      "outputs": [
        {
          "output_type": "stream",
          "name": "stdout",
          "text": [
            "\n",
            " Event A: [1 2 3]\n",
            "\n",
            " Event B: [5]\n"
          ]
        }
      ]
    },
    {
      "cell_type": "markdown",
      "source": [
        "Given these two events are mutually exclusve the probability of either A or B happening is given as follows"
      ],
      "metadata": {
        "id": "INZbQLQyJhxK"
      }
    },
    {
      "cell_type": "code",
      "source": [
        "#Probability of A or B\n",
        "\n",
        "prob_A = len(A)/len(sample_space)\n",
        "prob_B = len(B)/len(sample_space)\n",
        "\n",
        "print(\"\\n Probability of Event A:\", prob_A)\n",
        "print(\"\\n Probability of Event B:\", prob_B)\n",
        "\n",
        "#total Probaility of A or B\n",
        "\n",
        "total_prob = prob_A + prob_B\n",
        "\n",
        "print(\"\\n Total Probability of A or B:\", total_prob)"
      ],
      "metadata": {
        "colab": {
          "base_uri": "https://localhost:8080/"
        },
        "id": "dsI3IJuaJdby",
        "outputId": "d1a5f33e-aecb-48a0-de4e-f0801bf8ee8b"
      },
      "execution_count": 5,
      "outputs": [
        {
          "output_type": "stream",
          "name": "stdout",
          "text": [
            "\n",
            " Probability of Event A: 0.5\n",
            "\n",
            " Probability of Event B: 0.16666666666666666\n",
            "\n",
            " Total Probability of A or B: 0.6666666666666666\n"
          ]
        }
      ]
    },
    {
      "cell_type": "markdown",
      "source": [
        "Now with Event C in which they arent mutually exclusive from A"
      ],
      "metadata": {
        "id": "uOEMaXRAJ9zY"
      }
    },
    {
      "cell_type": "code",
      "source": [
        "#Create event c\n",
        "\n",
        "C= np.array([1,3,5])\n",
        "\n",
        "print(\"\\n Event C:\", C)\n",
        "\n",
        "#Probabilty of A or C\n",
        "\n",
        "prob_A = len(A)/len(sample_space)\n",
        "prob_C = len(C)/len(sample_space)\n",
        "\n",
        "print(\"\\n Probability of Event A:\", prob_A)\n",
        "print(\"\\n Probability of Event C:\", prob_C)\n",
        "\n",
        "#total Probaility of A or B where 2/6 is the overlap of the two events\n",
        "\n",
        "total_prob = prob_A + prob_C - 2/6\n",
        "\n",
        "print(\"\\n Total Probability of A or C:\", total_prob)\n"
      ],
      "metadata": {
        "colab": {
          "base_uri": "https://localhost:8080/"
        },
        "id": "JopJTtStKQ5U",
        "outputId": "11d41972-2ff8-42cc-ef3a-b53d2662794a"
      },
      "execution_count": 8,
      "outputs": [
        {
          "output_type": "stream",
          "name": "stdout",
          "text": [
            "\n",
            " Event C: [1 3 5]\n",
            "\n",
            " Probability of Event A: 0.5\n",
            "\n",
            " Probability of Event C: 0.5\n",
            "\n",
            " Total Probability of A or C: 0.6666666666666667\n"
          ]
        }
      ]
    },
    {
      "cell_type": "markdown",
      "source": [
        "2.2.2 Conditional Probabilty"
      ],
      "metadata": {
        "id": "B0HPVnHQOR0C"
      }
    },
    {
      "cell_type": "markdown",
      "source": [
        "First we will use the same events as above and will get the conditional probabilty of A given C"
      ],
      "metadata": {
        "id": "Ckym6u1zOXM3"
      }
    },
    {
      "cell_type": "code",
      "source": [
        "# Probability of A given C\n",
        "\n",
        "prob_A_given_C = len(np.intersect1d(A,C))/len(C)\n",
        "\n",
        "print(\"\\n Probability of Event A given C:\", prob_A_given_C)\n",
        "#This is true as they are mutually exclusive events"
      ],
      "metadata": {
        "colab": {
          "base_uri": "https://localhost:8080/"
        },
        "id": "5ifE9OnpOpeH",
        "outputId": "2a06098f-7b9e-451f-f113-70aeb637bf0e"
      },
      "execution_count": 9,
      "outputs": [
        {
          "output_type": "stream",
          "name": "stdout",
          "text": [
            "\n",
            " Probability of Event A given C: 0.6666666666666666\n"
          ]
        }
      ]
    },
    {
      "cell_type": "markdown",
      "source": [
        "And thus we have an example of conditional probability solved for mathematically"
      ],
      "metadata": {
        "id": "rN1uCFF-Pib1"
      }
    },
    {
      "cell_type": "markdown",
      "source": [
        "2.2.3 Discrete Random Variables"
      ],
      "metadata": {
        "id": "0duugZT0PnDG"
      }
    },
    {
      "cell_type": "markdown",
      "source": [
        "The discrete random variable is defined to a finite set of outcomes"
      ],
      "metadata": {
        "id": "24Jp2lRSPqmD"
      }
    },
    {
      "cell_type": "markdown",
      "source": [
        "We will create a histogram for a poisson distribution randomly generated as an example of a discrete variable."
      ],
      "metadata": {
        "id": "A6fcsY8WRjPp"
      }
    },
    {
      "cell_type": "code",
      "source": [
        "#import\n",
        "\n",
        "import matplotlib.pyplot as plt\n",
        "\n",
        "# Number of items being stored in a garage per year\n",
        "param1 = 5  # Average rate\n",
        "num_events = 20  # Number of events to simulate\n",
        "\n",
        "# Generate a sample\n",
        "events = np.random.poisson(param1, num_events)\n",
        "\n",
        "# Create a histogram\n",
        "plt.hist(events, bins=range(max(events) + 2), align='left', rwidth=0.8)\n",
        "plt.xlabel(\"Number of Customers\")\n",
        "plt.ylabel(\"Frequency\")\n",
        "plt.title(\"Poisson Distribution Example (λ = {})\".format(param1))\n",
        "plt.xticks(range(max(events)+1))\n",
        "plt.show()\n",
        "\n",
        "\n"
      ],
      "metadata": {
        "colab": {
          "base_uri": "https://localhost:8080/",
          "height": 472
        },
        "id": "98mBidoIQagj",
        "outputId": "845f7c98-706e-4779-93bd-b43e2d569263"
      },
      "execution_count": 19,
      "outputs": [
        {
          "output_type": "display_data",
          "data": {
            "text/plain": [
              "<Figure size 640x480 with 1 Axes>"
            ],
            "image/png": "[encoded data removed]"
          },
          "metadata": {}
        }
      ]
    },
    {
      "cell_type": "markdown",
      "source": [
        "Find the expected value and variance of the poisson distribution"
      ],
      "metadata": {
        "id": "Yee13KqvSDjs"
      }
    },
    {
      "cell_type": "markdown",
      "source": [
        "2.2.4 Continuous Random Variable"
      ],
      "metadata": {
        "id": "MeXg3JrSR7ox"
      }
    },
    {
      "cell_type": "markdown",
      "source": [
        "In order to give an example of a Continuous random variable, I will give an example normal curve set to a mean of 10 and standard deviation of 2."
      ],
      "metadata": {
        "id": "Df2cs0udTDSb"
      }
    },
    {
      "cell_type": "code",
      "source": [
        "#data for the normal distribution\n",
        "mean = 10\n",
        "std_dev = 2\n",
        "\n",
        "#With 4 standard deviations of data to get on further than the standard 3 standrd deviations away\n",
        "x = np.linspace(mean - 4 * std_dev, mean + 4 * std_dev, 100)\n",
        "y = (1 / (std_dev * np.sqrt(2 * np.pi))) * np.exp(-0.5 * ((x - mean) / std_dev)**2)\n",
        "\n",
        "# Create the plot\n",
        "plt.plot(x, y)\n",
        "plt.xlabel('Value')\n",
        "plt.ylabel('Probability Density')\n",
        "plt.title('Normal Distribution (Mean={}, Std Dev={})'.format(mean, std_dev))\n",
        "plt.grid(True)\n",
        "plt.show()\n"
      ],
      "metadata": {
        "colab": {
          "base_uri": "https://localhost:8080/",
          "height": 472
        },
        "id": "qCbKH_gxTOWa",
        "outputId": "8212bd4c-2a1f-4587-a688-253b2c66b8f1"
      },
      "execution_count": 21,
      "outputs": [
        {
          "output_type": "display_data",
          "data": {
            "text/plain": [
              "<Figure size 640x480 with 1 Axes>"
            ],
            "image/png": "[encoded data removed]"
          },
          "metadata": {}
        }
      ]
    },
    {
      "cell_type": "code",
      "source": [
        "\n",
        "# Print the expected value and variance from the normal distribution\n",
        "\n",
        "variance = std_dev**2\n",
        "\n",
        "print(f\"Expected Value: {mean}\")\n",
        "print(f\"Variance: {variance}\")"
      ],
      "metadata": {
        "colab": {
          "base_uri": "https://localhost:8080/"
        },
        "id": "84ZcMuKUT4-c",
        "outputId": "48725e50-cd4d-4c78-f9c6-a44c3efa5f07"
      },
      "execution_count": 23,
      "outputs": [
        {
          "output_type": "stream",
          "name": "stdout",
          "text": [
            "Expected Value: 10\n",
            "Variance: 4\n"
          ]
        }
      ]
    }
  ]
}