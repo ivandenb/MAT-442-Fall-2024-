{
  "nbformat": 4,
  "nbformat_minor": 0,
  "metadata": {
    "colab": {
      "provenance": [],
      "authorship_tag": "ABX9TyOzLpGWbs+RNhe3MMlROrW7",
      "include_colab_link": true
    },
    "kernelspec": {
      "name": "python3",
      "display_name": "Python 3"
    },
    "language_info": {
      "name": "python"
    }
  },
  "cells": [
    {
      "cell_type": "markdown",
      "metadata": {
        "id": "view-in-github",
        "colab_type": "text"
      },
      "source": [
        "<a href=\"https://colab.research.google.com/github/ivandenb/MAT-442-Fall-2024-/blob/main/HW1_3.ipynb\" target=\"_parent\"><img src=\"https://colab.research.google.com/assets/colab-badge.svg\" alt=\"Open In Colab\"/></a>"
      ]
    },
    {
      "cell_type": "markdown",
      "source": [
        "**1.3 Linear Regression**"
      ],
      "metadata": {
        "id": "3GQSUVW9u3DS"
      }
    },
    {
      "cell_type": "markdown",
      "source": [
        "1.3.1 QR Decomposition"
      ],
      "metadata": {
        "id": "DVvWiHoQvFTm"
      }
    },
    {
      "cell_type": "markdown",
      "source": [
        "First use generate random linearly independent vectors"
      ],
      "metadata": {
        "id": "q63XdBWe_vfb"
      }
    },
    {
      "cell_type": "code",
      "source": [
        "# import\n",
        "import numpy as np\n",
        "\n",
        "# generate the vectors\n",
        "# Create three vectors of dimension three with random integers\n",
        "vector1 = np.random.randint(0, 10, size=3)\n",
        "vector2 = np.random.randint(0, 10, size=3)\n",
        "vector3 = np.random.randint(0, 10, size=3)\n",
        "\n",
        "\n",
        "def dependence_check(v1, v2, v3):\n",
        "  matrix = np.stack((v1, v2, v3), axis = -1)\n",
        "  det = np.linalg.det(matrix)\n",
        "  if det == 0:\n",
        "    print(\"the vectors are linearly dependent\")\n",
        "  else:\n",
        "    print(\"the vectors are linearly independent\")\n",
        "\n",
        "print(\"\\n\", vector1, \"\\n\", vector2, \"\\n\", vector3)\n",
        "\n",
        "dependence_check(vector1, vector2, vector3)"
      ],
      "metadata": {
        "colab": {
          "base_uri": "https://localhost:8080/"
        },
        "id": "c5d9J2gf_8pf",
        "outputId": "0e08a1ce-ee88-4421-d14a-db3968aa9669"
      },
      "execution_count": 1,
      "outputs": [
        {
          "output_type": "stream",
          "name": "stdout",
          "text": [
            "\n",
            " [6 2 7] \n",
            " [7 0 6] \n",
            " [9 3 7]\n",
            "the vectors are linearly independent\n"
          ]
        }
      ]
    },
    {
      "cell_type": "markdown",
      "source": [
        "Then perform Gram-Schmidt to get Q"
      ],
      "metadata": {
        "id": "UUu5rjqrAWP7"
      }
    },
    {
      "cell_type": "code",
      "source": [
        "#Solve Gram Schmidt\n",
        "\n",
        "#Let u1=v1\n",
        "u1=vector1\n",
        "\n",
        "#Let u2=v2-(<u1,v1>/<u1,u1>)u1\n",
        "\n",
        "u2=vector2-(np.dot(u1,vector2)/np.dot(u1,u1))*u1\n",
        "\n",
        "#solve u3\n",
        "\n",
        "u3=vector3-(np.dot(u1,vector3)/np.dot(u1,u1))*u1-(np.dot(u2,vector3)/np.dot(u2,u2))*u2\n",
        "\n",
        "#Now normalize the vectors\n",
        "\n",
        "e1=u1/np.linalg.norm(u1)\n",
        "e2=u2/np.linalg.norm(u2)\n",
        "e3=u3/np.linalg.norm(u3)\n",
        "\n",
        "#print the vectors\n",
        "print(\"\\n\", e1, \"\\n\", e2, \"\\n\", e3)"
      ],
      "metadata": {
        "colab": {
          "base_uri": "https://localhost:8080/"
        },
        "id": "BMGz0WtCAajs",
        "outputId": "5919b47f-2b99-4f08-bdf1-f7b4041c77b8"
      },
      "execution_count": 2,
      "outputs": [
        {
          "output_type": "stream",
          "name": "stdout",
          "text": [
            "\n",
            " [0.63599873 0.21199958 0.74199852] \n",
            " [ 0.5591046  -0.78932414 -0.25371133] \n",
            " [ 0.53189065  0.57621487 -0.62053909]\n"
          ]
        }
      ]
    },
    {
      "cell_type": "markdown",
      "source": [
        "Then create the R matrix"
      ],
      "metadata": {
        "id": "m7tmEcYLBs3S"
      }
    },
    {
      "cell_type": "code",
      "source": [
        "# Then create the R matrix\n",
        "Q = np.stack((e1, e2, e3), axis=-1)\n",
        "R = np.zeros((3,3))\n",
        "\n",
        "R[0,0] = np.dot(vector1,e1)\n",
        "R[0,1] = np.dot(vector2,e1)\n",
        "R[0,2] = np.dot(vector3,e1)\n",
        "R[1,1] = np.dot(vector2,e2)\n",
        "R[1,2] = np.dot(vector3,e2)\n",
        "R[2,2] = np.dot(vector3,e3)\n",
        "\n",
        "#print the matrices\n",
        "\n",
        "print(\"\\nQ matrix:\\n\", Q)\n",
        "print(\"\\nR matrix:\\n\", R)"
      ],
      "metadata": {
        "colab": {
          "base_uri": "https://localhost:8080/"
        },
        "id": "ebzJRZWECMWt",
        "outputId": "bb0b4e71-f84b-4d52-dea8-3ab19fd5c9f8"
      },
      "execution_count": 7,
      "outputs": [
        {
          "output_type": "stream",
          "name": "stdout",
          "text": [
            "\n",
            "Q matrix:\n",
            " [[ 0.63599873  0.5591046   0.53189065]\n",
            " [ 0.21199958 -0.78932414  0.57621487]\n",
            " [ 0.74199852 -0.25371133 -0.62053909]]\n",
            "\n",
            "R matrix:\n",
            " [[ 9.43398113  8.90398219 11.55397689]\n",
            " [ 0.          2.39146422  0.88798966]\n",
            " [ 0.          0.          2.17188682]]\n"
          ]
        }
      ]
    },
    {
      "cell_type": "markdown",
      "source": [
        "Then check the work by multiplying q and r together and check to see if it is equal to the original matrix"
      ],
      "metadata": {
        "id": "1MAoSWrSCce_"
      }
    },
    {
      "cell_type": "code",
      "source": [
        "# prompt: multiply q and r\n",
        "\n",
        "multiplied_matrix = np.dot(Q,R)\n",
        "\n",
        "#round the multiplied matrix into integers\n",
        "\n",
        "rounded_matrix = np.round(multiplied_matrix).astype(int)\n",
        "\n",
        "\n",
        "#print the matrices\n",
        "original_matrix = np.stack((vector1, vector2, vector3), axis = -1)\n",
        "multiplied_matrix = np.dot(Q,R)\n",
        "print(\"\\noriginal matrix:\\n\", original_matrix)\n",
        "print(\"\\nmultiplied matrix:\\n\", rounded_matrix)\n",
        "\n",
        "#check to see if they are equal\n",
        "if np.array_equal(rounded_matrix, original_matrix):\n",
        "  print(\"THE MATRICES ARE EQUAL\")\n",
        "else:\n",
        "  print(\"The Matrices Are Not Equal\")"
      ],
      "metadata": {
        "colab": {
          "base_uri": "https://localhost:8080/"
        },
        "id": "j7gR-K2BCbfp",
        "outputId": "6821bec3-b4db-4fb4-8dcb-5b1e15f6f260"
      },
      "execution_count": 17,
      "outputs": [
        {
          "output_type": "stream",
          "name": "stdout",
          "text": [
            "\n",
            "original matrix:\n",
            " [[6 7 9]\n",
            " [2 0 3]\n",
            " [7 6 7]]\n",
            "\n",
            "multiplied matrix:\n",
            " [[6 7 9]\n",
            " [2 0 3]\n",
            " [7 6 7]]\n",
            "THE MATRICES ARE EQUAL\n"
          ]
        }
      ]
    },
    {
      "cell_type": "markdown",
      "source": [
        "And thus the QR decompisition rings true"
      ],
      "metadata": {
        "id": "RWz4r1k6EBKe"
      }
    },
    {
      "cell_type": "markdown",
      "source": [
        "1.3.2 Least Squares Problem"
      ],
      "metadata": {
        "id": "PIz0zxg9EEn3"
      }
    },
    {
      "cell_type": "markdown",
      "source": [],
      "metadata": {
        "id": "7P6Ya2vhETqQ"
      }
    }
  ]
}